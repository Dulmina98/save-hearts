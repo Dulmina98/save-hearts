{
  "nbformat": 4,
  "nbformat_minor": 0,
  "metadata": {
    "colab": {
      "provenance": [],
      "authorship_tag": "ABX9TyPeyz7w+nOo900nGS2vNJiM",
      "include_colab_link": true
    },
    "kernelspec": {
      "name": "python3",
      "display_name": "Python 3"
    },
    "language_info": {
      "name": "python"
    },
    "accelerator": "GPU",
    "gpuClass": "standard"
  },
  "cells": [
    {
      "cell_type": "markdown",
      "metadata": {
        "id": "view-in-github",
        "colab_type": "text"
      },
      "source": [
        "<a href=\"https://colab.research.google.com/github/savindu29/Save-hearts/blob/feat%2Fsavindu/savehearts_lstm.ipynb\" target=\"_parent\"><img src=\"https://colab.research.google.com/assets/colab-badge.svg\" alt=\"Open In Colab\"/></a>"
      ]
    },
    {
      "cell_type": "code",
      "execution_count": 2,
      "metadata": {
        "id": "Kv5EPgkqmyEj"
      },
      "outputs": [],
      "source": [
        "from google.colab import drive"
      ]
    },
    {
      "cell_type": "code",
      "source": [
        "drive.mount(\"/content/drive\")"
      ],
      "metadata": {
        "colab": {
          "base_uri": "https://localhost:8080/"
        },
        "id": "xddT-2SBqGA6",
        "outputId": "1fdd9d7a-569e-43bf-e72e-c4e53f859a3f"
      },
      "execution_count": 3,
      "outputs": [
        {
          "output_type": "stream",
          "name": "stdout",
          "text": [
            "Mounted at /content/drive\n"
          ]
        }
      ]
    },
    {
      "cell_type": "code",
      "source": [
        "import pandas as pd\n",
        "import matplotlib.pyplot as plt\n",
        "dataset = pd.read_csv('/content/drive/MyDrive/data/data.csv', usecols=[1], engine='python')\n",
        "plt.plot(dataset)\n",
        "plt.show()"
      ],
      "metadata": {
        "colab": {
          "base_uri": "https://localhost:8080/",
          "height": 265
        },
        "id": "EtSTI0bNr-cX",
        "outputId": "78f525eb-6baa-4647-dd8a-690b6d53e26e"
      },
      "execution_count": 4,
      "outputs": [
        {
          "output_type": "display_data",
          "data": {
            "text/plain": [
              "<Figure size 432x288 with 1 Axes>"
            ],
            "image/png": "[encoded data removed]"
          },
          "metadata": {
            "needs_background": "light"
          }
        }
      ]
    },
    {
      "cell_type": "code",
      "source": [
        "import numpy as np\n",
        "import matplotlib.pyplot as plt\n",
        "import pandas as pd\n",
        "import tensorflow as tf\n",
        "from tensorflow.keras.models import Sequential\n",
        "from tensorflow.keras.layers import Dense\n",
        "from tensorflow.keras.layers import LSTM\n",
        "from sklearn.preprocessing import MinMaxScaler\n",
        "from sklearn.metrics import mean_squared_error"
      ],
      "metadata": {
        "id": "4gMBk3i0zubR"
      },
      "execution_count": 5,
      "outputs": []
    },
    {
      "cell_type": "code",
      "source": [
        "# fix random seed for reproducibility\n",
        "tf.random.set_seed(7)"
      ],
      "metadata": {
        "id": "0Ena0UGWz5xj"
      },
      "execution_count": 6,
      "outputs": []
    },
    {
      "cell_type": "code",
      "source": [
        "# load the dataset\n",
        "dataframe = pd.read_csv('/content/drive/MyDrive/data/data.csv', usecols=[1], engine='python')\n",
        "dataset = dataframe.values\n",
        "dataset = dataset.astype('float32')"
      ],
      "metadata": {
        "id": "t6VA-MOe0_PB"
      },
      "execution_count": 7,
      "outputs": []
    },
    {
      "cell_type": "code",
      "source": [
        "# normalize the dataset\n",
        "scaler = MinMaxScaler(feature_range=(0, 1))\n",
        "dataset = scaler.fit_transform(dataset)"
      ],
      "metadata": {
        "id": "xZ-0YHb51H_7"
      },
      "execution_count": 8,
      "outputs": []
    },
    {
      "cell_type": "code",
      "source": [
        "# split into train and test sets\n",
        "train_size = int(len(dataset) * 0.67)\n",
        "test_size = len(dataset) - train_size\n",
        "train, test = dataset[0:train_size,:], dataset[train_size:len(dataset),:]\n",
        "print(len(train), len(test))"
      ],
      "metadata": {
        "colab": {
          "base_uri": "https://localhost:8080/"
        },
        "id": "klbO2jsr1JZB",
        "outputId": "648548bf-c71b-44ac-a797-30d721a33519"
      },
      "execution_count": 9,
      "outputs": [
        {
          "output_type": "stream",
          "name": "stdout",
          "text": [
            "40 20\n"
          ]
        }
      ]
    },
    {
      "cell_type": "code",
      "source": [
        "# convert an array of values into a dataset matrix\n",
        "def create_dataset(dataset, look_back=1):\n",
        "\tdataX, dataY = [], []\n",
        "\tfor i in range(len(dataset)-look_back-1):\n",
        "\t\ta = dataset[i:(i+look_back), 0]\n",
        "\t\tdataX.append(a)\n",
        "\t\tdataY.append(dataset[i + look_back, 0])\n",
        "\treturn np.array(dataX), np.array(dataY)"
      ],
      "metadata": {
        "id": "eIc7RKkz1QJB"
      },
      "execution_count": 11,
      "outputs": []
    },
    {
      "cell_type": "code",
      "source": [
        "# reshape into X=t and Y=t+1\n",
        "look_back = 1\n",
        "trainX, trainY = create_dataset(train, look_back)\n",
        "testX, testY = create_dataset(test, look_back)"
      ],
      "metadata": {
        "id": "LB30HV6n1cEj"
      },
      "execution_count": 12,
      "outputs": []
    },
    {
      "cell_type": "code",
      "source": [
        "# reshape input to be [samples, time steps, features]\n",
        "trainX = np.reshape(trainX, (trainX.shape[0], 1, trainX.shape[1]))\n",
        "testX = np.reshape(testX, (testX.shape[0], 1, testX.shape[1]))"
      ],
      "metadata": {
        "id": "OvsgaaKb1ctl"
      },
      "execution_count": 13,
      "outputs": []
    },
    {
      "cell_type": "code",
      "source": [
        "# create and fit the LSTM network\n",
        "model = Sequential()\n",
        "model.add(LSTM(4, input_shape=(1, look_back)))\n",
        "model.add(Dense(1))\n",
        "model.compile(loss='mean_squared_error', optimizer='adam')\n",
        "model.fit(trainX, trainY, epochs=100, batch_size=1, verbose=2)"
      ],
      "metadata": {
        "colab": {
          "base_uri": "https://localhost:8080/"
        },
        "id": "0TxFvQJ81gE3",
        "outputId": "9349d631-22c3-4138-9f3e-7798542a6e51"
      },
      "execution_count": 14,
      "outputs": [
        {
          "output_type": "stream",
          "name": "stdout",
          "text": [
            "Epoch 1/100\n",
            "38/38 - 7s - loss: 0.6524 - 7s/epoch - 181ms/step\n",
            "Epoch 2/100\n",
            "38/38 - 0s - loss: 0.5278 - 100ms/epoch - 3ms/step\n",
            "Epoch 3/100\n",
            "38/38 - 0s - loss: 0.4098 - 100ms/epoch - 3ms/step\n",
            "Epoch 4/100\n",
            "38/38 - 0s - loss: 0.2986 - 100ms/epoch - 3ms/step\n",
            "Epoch 5/100\n",
            "38/38 - 0s - loss: 0.1989 - 103ms/epoch - 3ms/step\n",
            "Epoch 6/100\n",
            "38/38 - 0s - loss: 0.1182 - 97ms/epoch - 3ms/step\n",
            "Epoch 7/100\n",
            "38/38 - 0s - loss: 0.0628 - 103ms/epoch - 3ms/step\n",
            "Epoch 8/100\n",
            "38/38 - 0s - loss: 0.0327 - 101ms/epoch - 3ms/step\n",
            "Epoch 9/100\n",
            "38/38 - 0s - loss: 0.0196 - 99ms/epoch - 3ms/step\n",
            "Epoch 10/100\n",
            "38/38 - 0s - loss: 0.0148 - 106ms/epoch - 3ms/step\n",
            "Epoch 11/100\n",
            "38/38 - 0s - loss: 0.0137 - 96ms/epoch - 3ms/step\n",
            "Epoch 12/100\n",
            "38/38 - 0s - loss: 0.0135 - 98ms/epoch - 3ms/step\n",
            "Epoch 13/100\n",
            "38/38 - 0s - loss: 0.0135 - 100ms/epoch - 3ms/step\n",
            "Epoch 14/100\n",
            "38/38 - 0s - loss: 0.0135 - 103ms/epoch - 3ms/step\n",
            "Epoch 15/100\n",
            "38/38 - 0s - loss: 0.0134 - 98ms/epoch - 3ms/step\n",
            "Epoch 16/100\n",
            "38/38 - 0s - loss: 0.0135 - 100ms/epoch - 3ms/step\n",
            "Epoch 17/100\n",
            "38/38 - 0s - loss: 0.0135 - 103ms/epoch - 3ms/step\n",
            "Epoch 18/100\n",
            "38/38 - 0s - loss: 0.0135 - 100ms/epoch - 3ms/step\n",
            "Epoch 19/100\n",
            "38/38 - 0s - loss: 0.0136 - 102ms/epoch - 3ms/step\n",
            "Epoch 20/100\n",
            "38/38 - 0s - loss: 0.0134 - 99ms/epoch - 3ms/step\n",
            "Epoch 21/100\n",
            "38/38 - 0s - loss: 0.0134 - 97ms/epoch - 3ms/step\n",
            "Epoch 22/100\n",
            "38/38 - 0s - loss: 0.0134 - 104ms/epoch - 3ms/step\n",
            "Epoch 23/100\n",
            "38/38 - 0s - loss: 0.0138 - 136ms/epoch - 4ms/step\n",
            "Epoch 24/100\n",
            "38/38 - 0s - loss: 0.0134 - 152ms/epoch - 4ms/step\n",
            "Epoch 25/100\n",
            "38/38 - 0s - loss: 0.0134 - 158ms/epoch - 4ms/step\n",
            "Epoch 26/100\n",
            "38/38 - 0s - loss: 0.0134 - 156ms/epoch - 4ms/step\n",
            "Epoch 27/100\n",
            "38/38 - 0s - loss: 0.0134 - 198ms/epoch - 5ms/step\n",
            "Epoch 28/100\n",
            "38/38 - 0s - loss: 0.0134 - 167ms/epoch - 4ms/step\n",
            "Epoch 29/100\n",
            "38/38 - 0s - loss: 0.0134 - 133ms/epoch - 3ms/step\n",
            "Epoch 30/100\n",
            "38/38 - 0s - loss: 0.0134 - 142ms/epoch - 4ms/step\n",
            "Epoch 31/100\n",
            "38/38 - 0s - loss: 0.0134 - 142ms/epoch - 4ms/step\n",
            "Epoch 32/100\n",
            "38/38 - 0s - loss: 0.0133 - 141ms/epoch - 4ms/step\n",
            "Epoch 33/100\n",
            "38/38 - 0s - loss: 0.0134 - 137ms/epoch - 4ms/step\n",
            "Epoch 34/100\n",
            "38/38 - 0s - loss: 0.0134 - 135ms/epoch - 4ms/step\n",
            "Epoch 35/100\n",
            "38/38 - 0s - loss: 0.0134 - 135ms/epoch - 4ms/step\n",
            "Epoch 36/100\n",
            "38/38 - 0s - loss: 0.0134 - 133ms/epoch - 4ms/step\n",
            "Epoch 37/100\n",
            "38/38 - 0s - loss: 0.0134 - 133ms/epoch - 3ms/step\n",
            "Epoch 38/100\n",
            "38/38 - 0s - loss: 0.0134 - 135ms/epoch - 4ms/step\n",
            "Epoch 39/100\n",
            "38/38 - 0s - loss: 0.0134 - 140ms/epoch - 4ms/step\n",
            "Epoch 40/100\n",
            "38/38 - 0s - loss: 0.0135 - 146ms/epoch - 4ms/step\n",
            "Epoch 41/100\n",
            "38/38 - 0s - loss: 0.0134 - 132ms/epoch - 3ms/step\n",
            "Epoch 42/100\n",
            "38/38 - 0s - loss: 0.0136 - 134ms/epoch - 4ms/step\n",
            "Epoch 43/100\n",
            "38/38 - 0s - loss: 0.0133 - 131ms/epoch - 3ms/step\n",
            "Epoch 44/100\n",
            "38/38 - 0s - loss: 0.0134 - 138ms/epoch - 4ms/step\n",
            "Epoch 45/100\n",
            "38/38 - 0s - loss: 0.0133 - 141ms/epoch - 4ms/step\n",
            "Epoch 46/100\n",
            "38/38 - 0s - loss: 0.0134 - 124ms/epoch - 3ms/step\n",
            "Epoch 47/100\n",
            "38/38 - 0s - loss: 0.0134 - 122ms/epoch - 3ms/step\n",
            "Epoch 48/100\n",
            "38/38 - 0s - loss: 0.0133 - 128ms/epoch - 3ms/step\n",
            "Epoch 49/100\n",
            "38/38 - 0s - loss: 0.0134 - 135ms/epoch - 4ms/step\n",
            "Epoch 50/100\n",
            "38/38 - 0s - loss: 0.0133 - 130ms/epoch - 3ms/step\n",
            "Epoch 51/100\n",
            "38/38 - 0s - loss: 0.0136 - 130ms/epoch - 3ms/step\n",
            "Epoch 52/100\n",
            "38/38 - 0s - loss: 0.0134 - 142ms/epoch - 4ms/step\n",
            "Epoch 53/100\n",
            "38/38 - 0s - loss: 0.0134 - 147ms/epoch - 4ms/step\n",
            "Epoch 54/100\n",
            "38/38 - 0s - loss: 0.0132 - 107ms/epoch - 3ms/step\n",
            "Epoch 55/100\n",
            "38/38 - 0s - loss: 0.0133 - 100ms/epoch - 3ms/step\n",
            "Epoch 56/100\n",
            "38/38 - 0s - loss: 0.0135 - 100ms/epoch - 3ms/step\n",
            "Epoch 57/100\n",
            "38/38 - 0s - loss: 0.0132 - 101ms/epoch - 3ms/step\n",
            "Epoch 58/100\n",
            "38/38 - 0s - loss: 0.0132 - 104ms/epoch - 3ms/step\n",
            "Epoch 59/100\n",
            "38/38 - 0s - loss: 0.0134 - 103ms/epoch - 3ms/step\n",
            "Epoch 60/100\n",
            "38/38 - 0s - loss: 0.0134 - 100ms/epoch - 3ms/step\n",
            "Epoch 61/100\n",
            "38/38 - 0s - loss: 0.0133 - 118ms/epoch - 3ms/step\n",
            "Epoch 62/100\n",
            "38/38 - 0s - loss: 0.0135 - 97ms/epoch - 3ms/step\n",
            "Epoch 63/100\n",
            "38/38 - 0s - loss: 0.0135 - 101ms/epoch - 3ms/step\n",
            "Epoch 64/100\n",
            "38/38 - 0s - loss: 0.0136 - 111ms/epoch - 3ms/step\n",
            "Epoch 65/100\n",
            "38/38 - 0s - loss: 0.0132 - 102ms/epoch - 3ms/step\n",
            "Epoch 66/100\n",
            "38/38 - 0s - loss: 0.0139 - 106ms/epoch - 3ms/step\n",
            "Epoch 67/100\n",
            "38/38 - 0s - loss: 0.0135 - 103ms/epoch - 3ms/step\n",
            "Epoch 68/100\n",
            "38/38 - 0s - loss: 0.0136 - 99ms/epoch - 3ms/step\n",
            "Epoch 69/100\n",
            "38/38 - 0s - loss: 0.0132 - 100ms/epoch - 3ms/step\n",
            "Epoch 70/100\n",
            "38/38 - 0s - loss: 0.0132 - 98ms/epoch - 3ms/step\n",
            "Epoch 71/100\n",
            "38/38 - 0s - loss: 0.0132 - 96ms/epoch - 3ms/step\n",
            "Epoch 72/100\n",
            "38/38 - 0s - loss: 0.0133 - 98ms/epoch - 3ms/step\n",
            "Epoch 73/100\n",
            "38/38 - 0s - loss: 0.0136 - 111ms/epoch - 3ms/step\n",
            "Epoch 74/100\n",
            "38/38 - 0s - loss: 0.0133 - 102ms/epoch - 3ms/step\n",
            "Epoch 75/100\n",
            "38/38 - 0s - loss: 0.0133 - 109ms/epoch - 3ms/step\n",
            "Epoch 76/100\n",
            "38/38 - 0s - loss: 0.0133 - 102ms/epoch - 3ms/step\n",
            "Epoch 77/100\n",
            "38/38 - 0s - loss: 0.0134 - 99ms/epoch - 3ms/step\n",
            "Epoch 78/100\n",
            "38/38 - 0s - loss: 0.0133 - 101ms/epoch - 3ms/step\n",
            "Epoch 79/100\n",
            "38/38 - 0s - loss: 0.0132 - 114ms/epoch - 3ms/step\n",
            "Epoch 80/100\n",
            "38/38 - 0s - loss: 0.0134 - 100ms/epoch - 3ms/step\n",
            "Epoch 81/100\n",
            "38/38 - 0s - loss: 0.0135 - 99ms/epoch - 3ms/step\n",
            "Epoch 82/100\n",
            "38/38 - 0s - loss: 0.0133 - 106ms/epoch - 3ms/step\n",
            "Epoch 83/100\n",
            "38/38 - 0s - loss: 0.0133 - 109ms/epoch - 3ms/step\n",
            "Epoch 84/100\n",
            "38/38 - 0s - loss: 0.0131 - 108ms/epoch - 3ms/step\n",
            "Epoch 85/100\n",
            "38/38 - 0s - loss: 0.0134 - 106ms/epoch - 3ms/step\n",
            "Epoch 86/100\n",
            "38/38 - 0s - loss: 0.0131 - 103ms/epoch - 3ms/step\n",
            "Epoch 87/100\n",
            "38/38 - 0s - loss: 0.0132 - 102ms/epoch - 3ms/step\n",
            "Epoch 88/100\n",
            "38/38 - 0s - loss: 0.0132 - 102ms/epoch - 3ms/step\n",
            "Epoch 89/100\n",
            "38/38 - 0s - loss: 0.0135 - 102ms/epoch - 3ms/step\n",
            "Epoch 90/100\n",
            "38/38 - 0s - loss: 0.0138 - 100ms/epoch - 3ms/step\n",
            "Epoch 91/100\n",
            "38/38 - 0s - loss: 0.0136 - 102ms/epoch - 3ms/step\n",
            "Epoch 92/100\n",
            "38/38 - 0s - loss: 0.0135 - 108ms/epoch - 3ms/step\n",
            "Epoch 93/100\n",
            "38/38 - 0s - loss: 0.0131 - 103ms/epoch - 3ms/step\n",
            "Epoch 94/100\n",
            "38/38 - 0s - loss: 0.0131 - 100ms/epoch - 3ms/step\n",
            "Epoch 95/100\n",
            "38/38 - 0s - loss: 0.0131 - 100ms/epoch - 3ms/step\n",
            "Epoch 96/100\n",
            "38/38 - 0s - loss: 0.0132 - 111ms/epoch - 3ms/step\n",
            "Epoch 97/100\n",
            "38/38 - 0s - loss: 0.0132 - 101ms/epoch - 3ms/step\n",
            "Epoch 98/100\n",
            "38/38 - 0s - loss: 0.0133 - 108ms/epoch - 3ms/step\n",
            "Epoch 99/100\n",
            "38/38 - 0s - loss: 0.0134 - 100ms/epoch - 3ms/step\n",
            "Epoch 100/100\n",
            "38/38 - 0s - loss: 0.0132 - 103ms/epoch - 3ms/step\n"
          ]
        },
        {
          "output_type": "execute_result",
          "data": {
            "text/plain": [
              "<keras.callbacks.History at 0x7ffa1857c8e0>"
            ]
          },
          "metadata": {},
          "execution_count": 14
        }
      ]
    },
    {
      "cell_type": "code",
      "source": [
        "# make predictions\n",
        "trainPredict = model.predict(trainX)\n",
        "testPredict = model.predict(testX)\n",
        "# invert predictions\n",
        "trainPredict = scaler.inverse_transform(trainPredict)\n",
        "trainY = scaler.inverse_transform([trainY])\n",
        "testPredict = scaler.inverse_transform(testPredict)\n",
        "testY = scaler.inverse_transform([testY])\n",
        "# calculate root mean squared error\n",
        "trainScore = np.sqrt(mean_squared_error(trainY[0], trainPredict[:,0]))\n",
        "print('Train Score: %.2f RMSE' % (trainScore))\n",
        "testScore = np.sqrt(mean_squared_error(testY[0], testPredict[:,0]))\n",
        "print('Test Score: %.2f RMSE' % (testScore))"
      ],
      "metadata": {
        "colab": {
          "base_uri": "https://localhost:8080/"
        },
        "id": "7DEY4m9e1hx2",
        "outputId": "b4a70fbc-6b97-4f21-ec6d-e7b1bfa07900"
      },
      "execution_count": 15,
      "outputs": [
        {
          "output_type": "stream",
          "name": "stdout",
          "text": [
            "2/2 [==============================] - 0s 9ms/step\n",
            "1/1 [==============================] - 0s 20ms/step\n",
            "Train Score: 2693.55 RMSE\n",
            "Test Score: 4976.93 RMSE\n"
          ]
        }
      ]
    },
    {
      "cell_type": "code",
      "source": [
        "# shift train predictions for plotting\n",
        "trainPredictPlot = np.empty_like(dataset)\n",
        "trainPredictPlot[:, :] = np.nan\n",
        "trainPredictPlot[look_back:len(trainPredict)+look_back, :] = trainPredict\n",
        "# shift test predictions for plotting\n",
        "testPredictPlot = np.empty_like(dataset)\n",
        "testPredictPlot[:, :] = np.nan\n",
        "testPredictPlot[len(trainPredict)+(look_back*2)+1:len(dataset)-1, :] = testPredict\n",
        "# plot baseline and predictions\n",
        "plt.plot(scaler.inverse_transform(dataset))\n",
        "plt.plot(trainPredictPlot)\n",
        "plt.plot(testPredictPlot)\n",
        "plt.show()"
      ],
      "metadata": {
        "colab": {
          "base_uri": "https://localhost:8080/",
          "height": 265
        },
        "id": "PXZfu9Dp1rnm",
        "outputId": "edf26c9b-4096-48bf-a7ae-aa7321cd3827"
      },
      "execution_count": 16,
      "outputs": [
        {
          "output_type": "display_data",
          "data": {
            "text/plain": [
              "<Figure size 432x288 with 1 Axes>"
            ],
            "image/png": "[encoded data removed]"
          },
          "metadata": {
            "needs_background": "light"
          }
        }
      ]
    },
    {
      "cell_type": "code",
      "source": [],
      "metadata": {
        "id": "HikqoAHl10YZ"
      },
      "execution_count": null,
      "outputs": []
    }
  ]
}