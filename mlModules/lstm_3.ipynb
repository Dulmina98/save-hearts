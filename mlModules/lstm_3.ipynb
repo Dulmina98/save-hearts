{
  "nbformat": 4,
  "nbformat_minor": 0,
  "metadata": {
    "colab": {
      "provenance": [],
      "authorship_tag": "ABX9TyPDawuClUhWwIqqgQxruVZj",
      "include_colab_link": true
    },
    "kernelspec": {
      "name": "python3",
      "display_name": "Python 3"
    },
    "language_info": {
      "name": "python"
    }
  },
  "cells": [
    {
      "cell_type": "markdown",
      "metadata": {
        "id": "view-in-github",
        "colab_type": "text"
      },
      "source": [
        "<a href=\"https://colab.research.google.com/github/savindu29/Save-hearts/blob/feat%2Fsavindu/lstm_3.ipynb\" target=\"_parent\"><img src=\"https://colab.research.google.com/assets/colab-badge.svg\" alt=\"Open In Colab\"/></a>"
      ]
    },
    {
      "cell_type": "code",
      "execution_count": null,
      "metadata": {
        "id": "fzAgaWqGSH8j"
      },
      "outputs": [],
      "source": [
        "from google.colab import drive\n",
        "drive.mount(\"/content/drive\")"
      ]
    },
    {
      "cell_type": "code",
      "source": [
        "# Import required libraries\n",
        "import pandas as pd\n",
        "import numpy as np\n",
        "import matplotlib.pyplot as plt\n",
        "from sklearn.preprocessing import MinMaxScaler\n",
        "from keras.models import Sequential\n",
        "from keras.layers import Dense, LSTM"
      ],
      "metadata": {
        "id": "nzFXhZdGSldH"
      },
      "execution_count": 3,
      "outputs": []
    },
    {
      "cell_type": "code",
      "source": [
        "data = pd.read_csv('/content/drive/MyDrive/data/data.csv')"
      ],
      "metadata": {
        "id": "MoDiQ8VySqo_"
      },
      "execution_count": 4,
      "outputs": []
    },
    {
      "cell_type": "code",
      "source": [
        "# Convert the 'Date' column to datetime format\n",
        "data['Date'] = pd.to_datetime(data['Date'], format='%m/%d/%Y')\n",
        "\n",
        "# Sort the data by date\n",
        "data = data.sort_values('Date')"
      ],
      "metadata": {
        "id": "ilWVle_2Swdn"
      },
      "execution_count": 5,
      "outputs": []
    },
    {
      "cell_type": "code",
      "source": [
        "# Set the 'Date' column as the index\n",
        "data = data.set_index('Date')\n",
        "\n",
        "# Visualize the data\n",
        "plt.plot(data)\n",
        "plt.title('Blood Collection Data')\n",
        "plt.xlabel('Date')\n",
        "plt.ylabel('Amount')\n",
        "plt.show()"
      ],
      "metadata": {
        "colab": {
          "base_uri": "https://localhost:8080/",
          "height": 295
        },
        "id": "6FyYfHZ6Szg-",
        "outputId": "21e41599-e316-4b4e-c327-cf863e8ae9f8"
      },
      "execution_count": 6,
      "outputs": [
        {
          "output_type": "display_data",
          "data": {
            "text/plain": [
              "<Figure size 432x288 with 1 Axes>"
            ],
            "image/png": "[encoded data removed]"
          },
          "metadata": {
            "needs_background": "light"
          }
        }
      ]
    },
    {
      "cell_type": "code",
      "source": [
        "# Split the data into train and test sets\n",
        "train_size = int(len(data) * 0.8)\n",
        "train_data = data[:train_size]\n",
        "test_data = data[train_size:]"
      ],
      "metadata": {
        "id": "IfWMJSpaSz9D"
      },
      "execution_count": 7,
      "outputs": []
    },
    {
      "cell_type": "code",
      "source": [
        "\n",
        "# Scale the data using MinMaxScaler\n",
        "scaler = MinMaxScaler()\n",
        "train_data = scaler.fit_transform(train_data)\n",
        "test_data = scaler.transform(test_data)"
      ],
      "metadata": {
        "id": "3r8mZ-VHS6ZH"
      },
      "execution_count": 8,
      "outputs": []
    },
    {
      "cell_type": "code",
      "source": [
        "\n",
        "# Create a function to generate the input and output sequences for the LSTM model\n",
        "def create_sequences(data, seq_length):\n",
        "    X = []\n",
        "    y = []\n",
        "    for i in range(seq_length, len(data)):\n",
        "        X.append(data[i-seq_length:i])\n",
        "        y.append(data[i])\n",
        "    X = np.array(X)\n",
        "    y = np.array(y)\n",
        "    return X, y"
      ],
      "metadata": {
        "id": "TJc3PsvKS649"
      },
      "execution_count": 9,
      "outputs": []
    },
    {
      "cell_type": "code",
      "source": [
        "# Set the sequence length\n",
        "seq_length = 6\n",
        "\n",
        "# Generate the input and output sequences for the train and test sets\n",
        "X_train, y_train = create_sequences(train_data, seq_length)\n",
        "X_test, y_test = create_sequences(test_data, seq_length)"
      ],
      "metadata": {
        "id": "xwRaKr-cS9PO"
      },
      "execution_count": 10,
      "outputs": []
    },
    {
      "cell_type": "code",
      "source": [
        "# Build the LSTM model\n",
        "model = Sequential()\n",
        "model.add(LSTM(50, activation='relu', input_shape=(seq_length, 1)))\n",
        "model.add(Dense(1))\n",
        "model.compile(optimizer='adam', loss='mse')"
      ],
      "metadata": {
        "id": "jQSy0ZmuTACo"
      },
      "execution_count": 11,
      "outputs": []
    },
    {
      "cell_type": "code",
      "source": [
        "# Train the model\n",
        "model.fit(X_train, y_train, epochs=50, batch_size=16, verbose=2)\n",
        "\n",
        "# Make predictions for the test set\n",
        "y_pred = model.predict(X_test)"
      ],
      "metadata": {
        "colab": {
          "base_uri": "https://localhost:8080/"
        },
        "id": "manaiQHTTCS5",
        "outputId": "ab7cc06e-28aa-43dc-de5c-cd4965fdea53"
      },
      "execution_count": 12,
      "outputs": [
        {
          "output_type": "stream",
          "name": "stdout",
          "text": [
            "Epoch 1/50\n",
            "3/3 - 3s - loss: 0.4834 - 3s/epoch - 1s/step\n",
            "Epoch 2/50\n",
            "3/3 - 0s - loss: 0.4264 - 20ms/epoch - 7ms/step\n",
            "Epoch 3/50\n",
            "3/3 - 0s - loss: 0.3706 - 19ms/epoch - 6ms/step\n",
            "Epoch 4/50\n",
            "3/3 - 0s - loss: 0.3137 - 17ms/epoch - 6ms/step\n",
            "Epoch 5/50\n",
            "3/3 - 0s - loss: 0.2622 - 22ms/epoch - 7ms/step\n",
            "Epoch 6/50\n",
            "3/3 - 0s - loss: 0.2090 - 20ms/epoch - 7ms/step\n",
            "Epoch 7/50\n",
            "3/3 - 0s - loss: 0.1610 - 19ms/epoch - 6ms/step\n",
            "Epoch 8/50\n",
            "3/3 - 0s - loss: 0.1190 - 21ms/epoch - 7ms/step\n",
            "Epoch 9/50\n",
            "3/3 - 0s - loss: 0.0796 - 31ms/epoch - 10ms/step\n",
            "Epoch 10/50\n",
            "3/3 - 0s - loss: 0.0491 - 22ms/epoch - 7ms/step\n",
            "Epoch 11/50\n",
            "3/3 - 0s - loss: 0.0341 - 19ms/epoch - 6ms/step\n",
            "Epoch 12/50\n",
            "3/3 - 0s - loss: 0.0344 - 22ms/epoch - 7ms/step\n",
            "Epoch 13/50\n",
            "3/3 - 0s - loss: 0.0414 - 19ms/epoch - 6ms/step\n",
            "Epoch 14/50\n",
            "3/3 - 0s - loss: 0.0441 - 18ms/epoch - 6ms/step\n",
            "Epoch 15/50\n",
            "3/3 - 0s - loss: 0.0395 - 20ms/epoch - 7ms/step\n",
            "Epoch 16/50\n",
            "3/3 - 0s - loss: 0.0340 - 22ms/epoch - 7ms/step\n",
            "Epoch 17/50\n",
            "3/3 - 0s - loss: 0.0313 - 22ms/epoch - 7ms/step\n",
            "Epoch 18/50\n",
            "3/3 - 0s - loss: 0.0319 - 18ms/epoch - 6ms/step\n",
            "Epoch 19/50\n",
            "3/3 - 0s - loss: 0.0324 - 20ms/epoch - 7ms/step\n",
            "Epoch 20/50\n",
            "3/3 - 0s - loss: 0.0327 - 18ms/epoch - 6ms/step\n",
            "Epoch 21/50\n",
            "3/3 - 0s - loss: 0.0324 - 22ms/epoch - 7ms/step\n",
            "Epoch 22/50\n",
            "3/3 - 0s - loss: 0.0319 - 19ms/epoch - 6ms/step\n",
            "Epoch 23/50\n",
            "3/3 - 0s - loss: 0.0315 - 22ms/epoch - 7ms/step\n",
            "Epoch 24/50\n",
            "3/3 - 0s - loss: 0.0314 - 19ms/epoch - 6ms/step\n",
            "Epoch 25/50\n",
            "3/3 - 0s - loss: 0.0314 - 19ms/epoch - 6ms/step\n",
            "Epoch 26/50\n",
            "3/3 - 0s - loss: 0.0312 - 20ms/epoch - 7ms/step\n",
            "Epoch 27/50\n",
            "3/3 - 0s - loss: 0.0312 - 22ms/epoch - 7ms/step\n",
            "Epoch 28/50\n",
            "3/3 - 0s - loss: 0.0312 - 20ms/epoch - 7ms/step\n",
            "Epoch 29/50\n",
            "3/3 - 0s - loss: 0.0312 - 19ms/epoch - 6ms/step\n",
            "Epoch 30/50\n",
            "3/3 - 0s - loss: 0.0312 - 19ms/epoch - 6ms/step\n",
            "Epoch 31/50\n",
            "3/3 - 0s - loss: 0.0311 - 19ms/epoch - 6ms/step\n",
            "Epoch 32/50\n",
            "3/3 - 0s - loss: 0.0311 - 18ms/epoch - 6ms/step\n",
            "Epoch 33/50\n",
            "3/3 - 0s - loss: 0.0309 - 20ms/epoch - 7ms/step\n",
            "Epoch 34/50\n",
            "3/3 - 0s - loss: 0.0310 - 21ms/epoch - 7ms/step\n",
            "Epoch 35/50\n",
            "3/3 - 0s - loss: 0.0311 - 20ms/epoch - 7ms/step\n",
            "Epoch 36/50\n",
            "3/3 - 0s - loss: 0.0311 - 19ms/epoch - 6ms/step\n",
            "Epoch 37/50\n",
            "3/3 - 0s - loss: 0.0312 - 20ms/epoch - 7ms/step\n",
            "Epoch 38/50\n",
            "3/3 - 0s - loss: 0.0309 - 18ms/epoch - 6ms/step\n",
            "Epoch 39/50\n",
            "3/3 - 0s - loss: 0.0308 - 21ms/epoch - 7ms/step\n",
            "Epoch 40/50\n",
            "3/3 - 0s - loss: 0.0309 - 19ms/epoch - 6ms/step\n",
            "Epoch 41/50\n",
            "3/3 - 0s - loss: 0.0308 - 19ms/epoch - 6ms/step\n",
            "Epoch 42/50\n",
            "3/3 - 0s - loss: 0.0309 - 19ms/epoch - 6ms/step\n",
            "Epoch 43/50\n",
            "3/3 - 0s - loss: 0.0308 - 19ms/epoch - 6ms/step\n",
            "Epoch 44/50\n",
            "3/3 - 0s - loss: 0.0308 - 26ms/epoch - 9ms/step\n",
            "Epoch 45/50\n",
            "3/3 - 0s - loss: 0.0306 - 25ms/epoch - 8ms/step\n",
            "Epoch 46/50\n",
            "3/3 - 0s - loss: 0.0306 - 18ms/epoch - 6ms/step\n",
            "Epoch 47/50\n",
            "3/3 - 0s - loss: 0.0306 - 18ms/epoch - 6ms/step\n",
            "Epoch 48/50\n",
            "3/3 - 0s - loss: 0.0306 - 18ms/epoch - 6ms/step\n",
            "Epoch 49/50\n",
            "3/3 - 0s - loss: 0.0305 - 18ms/epoch - 6ms/step\n",
            "Epoch 50/50\n",
            "3/3 - 0s - loss: 0.0304 - 18ms/epoch - 6ms/step\n",
            "1/1 [==============================] - 0s 215ms/step\n"
          ]
        }
      ]
    },
    {
      "cell_type": "code",
      "source": [
        "# Rescale the predictions and actual values\n",
        "y_pred = scaler.inverse_transform(y_pred)\n",
        "y_test = scaler.inverse_transform(y_test)\n",
        "\n",
        "# Visualize the predictions and actual values\n",
        "plt.plot(y_test, label='Actual')\n",
        "plt.plot(y_pred, label='Predicted')\n",
        "plt.title('Blood Collection Forecasting')\n",
        "plt.xlabel('Time')\n",
        "plt.ylabel('Amount')\n",
        "plt.legend()\n",
        "plt.show()"
      ],
      "metadata": {
        "colab": {
          "base_uri": "https://localhost:8080/",
          "height": 295
        },
        "id": "YHPnyi5BTE2A",
        "outputId": "cdb1a832-8b2f-4e56-ffe2-8b7876a93723"
      },
      "execution_count": 13,
      "outputs": [
        {
          "output_type": "display_data",
          "data": {
            "text/plain": [
              "<Figure size 432x288 with 1 Axes>"
            ],
            "image/png": "[encoded data removed]"
          },
          "metadata": {
            "needs_background": "light"
          }
        }
      ]
    },
    {
      "cell_type": "code",
      "source": [
        "# Forecast the next month\n",
        "last_six_months = data.iloc[-6:].values\n",
        "last_six_months_scaled = scaler.transform(last_six_months)\n",
        "X_next_month = np.array([last_six_months_scaled])\n",
        "y_next_month_scaled = model.predict(X_next_month)\n",
        "y_next_month = scaler.inverse_transform(y_next_month_scaled)\n",
        "print('The forecast for the next month is:', y_next_month[0][0])"
      ],
      "metadata": {
        "colab": {
          "base_uri": "https://localhost:8080/"
        },
        "id": "NJd4PiFCTJIF",
        "outputId": "9101043e-c070-45e2-df9a-40b5069575bb"
      },
      "execution_count": 14,
      "outputs": [
        {
          "output_type": "stream",
          "name": "stdout",
          "text": [
            "1/1 [==============================] - 0s 43ms/step\n",
            "The forecast for the next month is: 33340.59\n"
          ]
        },
        {
          "output_type": "stream",
          "name": "stderr",
          "text": [
            "/usr/local/lib/python3.8/dist-packages/sklearn/base.py:450: UserWarning: X does not have valid feature names, but MinMaxScaler was fitted with feature names\n",
            "  warnings.warn(\n"
          ]
        }
      ]
    }
  ]
}