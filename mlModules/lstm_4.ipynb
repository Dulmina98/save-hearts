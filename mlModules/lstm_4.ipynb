{
  "nbformat": 4,
  "nbformat_minor": 0,
  "metadata": {
    "colab": {
      "provenance": [],
      "authorship_tag": "ABX9TyPL9ueH8oI71e6fajP09pNr",
      "include_colab_link": true
    },
    "kernelspec": {
      "name": "python3",
      "display_name": "Python 3"
    },
    "language_info": {
      "name": "python"
    }
  },
  "cells": [
    {
      "cell_type": "markdown",
      "metadata": {
        "id": "view-in-github",
        "colab_type": "text"
      },
      "source": [
        "<a href=\"https://colab.research.google.com/github/savindu29/Save-hearts/blob/feat%2Fsavindu/lstm_4.ipynb\" target=\"_parent\"><img src=\"https://colab.research.google.com/assets/colab-badge.svg\" alt=\"Open In Colab\"/></a>"
      ]
    },
    {
      "cell_type": "code",
      "source": [
        "import pandas as pd\n",
        "import numpy as np\n",
        "import matplotlib.pyplot as plt\n",
        "from sklearn.preprocessing import MinMaxScaler\n",
        "from keras.models import Sequential\n",
        "from keras.layers import Dense, LSTM\n"
      ],
      "metadata": {
        "id": "hcD9LfaWkas0"
      },
      "execution_count": 66,
      "outputs": []
    },
    {
      "cell_type": "code",
      "source": [
        "\n",
        "# Load the dataset\n",
        "data = pd.read_csv('/content/drive/MyDrive/data/data.csv')"
      ],
      "metadata": {
        "id": "93FVRC5RkdMd"
      },
      "execution_count": 67,
      "outputs": []
    },
    {
      "cell_type": "code",
      "source": [
        "# Convert date column to datetime format and set it as index\n",
        "data['Date'] = pd.to_datetime(data['Date'])\n",
        "data.set_index('Date', inplace=True)\n"
      ],
      "metadata": {
        "id": "-VKuXcvCkk93"
      },
      "execution_count": 68,
      "outputs": []
    },
    {
      "cell_type": "code",
      "source": [
        "# Plot the data\n",
        "plt.plot(data)\n",
        "plt.title('Blood Usage')\n",
        "plt.xlabel('Date')\n",
        "plt.ylabel('Amount')\n",
        "plt.show()"
      ],
      "metadata": {
        "colab": {
          "base_uri": "https://localhost:8080/",
          "height": 295
        },
        "id": "Bv7Agsswkmji",
        "outputId": "05514f4a-0f31-4b50-ad4e-ceaa08b1e8d5"
      },
      "execution_count": 69,
      "outputs": [
        {
          "output_type": "display_data",
          "data": {
            "text/plain": [
              "<Figure size 432x288 with 1 Axes>"
            ],
            "image/png": "[encoded data removed]"
          },
          "metadata": {
            "needs_background": "light"
          }
        }
      ]
    },
    {
      "cell_type": "code",
      "source": [
        "# Scale the data\n",
        "scaler = MinMaxScaler(feature_range=(0, 1))\n",
        "data_scaled = scaler.fit_transform(data)"
      ],
      "metadata": {
        "id": "_iis_PJskoji"
      },
      "execution_count": 70,
      "outputs": []
    },
    {
      "cell_type": "code",
      "source": [
        "# Split the data into training and testing sets\n",
        "train_size = int(len(data_scaled) * 0.75)\n",
        "test_size = len(data_scaled) - train_size\n",
        "train_data = data_scaled[0:train_size, :]\n",
        "test_data = data_scaled[train_size:len(data_scaled), :]"
      ],
      "metadata": {
        "id": "pFHN90dAkra1"
      },
      "execution_count": 71,
      "outputs": []
    },
    {
      "cell_type": "code",
      "source": [
        "# Function to create dataset with look-back\n",
        "def create_dataset(dataset, look_back=1):\n",
        "    X, Y = [], []\n",
        "    for i in range(len(dataset) - look_back - 1):\n",
        "        a = dataset[i:(i+look_back), 0]\n",
        "        X.append(a)\n",
        "        Y.append(dataset[i + look_back, 0])\n",
        "    return np.array(X), np.array(Y)\n"
      ],
      "metadata": {
        "id": "lV2fPZF6ktjU"
      },
      "execution_count": 72,
      "outputs": []
    },
    {
      "cell_type": "code",
      "source": [
        "# Create the training and testing datasets with look-back\n",
        "look_back = 3\n",
        "X_train, Y_train = create_dataset(train_data, look_back)\n",
        "X_test, Y_test = create_dataset(test_data, look_back)\n"
      ],
      "metadata": {
        "id": "-Mzvi3_RkvTl"
      },
      "execution_count": 73,
      "outputs": []
    },
    {
      "cell_type": "code",
      "source": [
        "# Reshape the input data to be 3-dimensional\n",
        "X_train = np.reshape(X_train, (X_train.shape[0], X_train.shape[1], 1))\n",
        "X_test = np.reshape(X_test, (X_test.shape[0], X_test.shape[1], 1))\n"
      ],
      "metadata": {
        "id": "C_ljhBf3kxAw"
      },
      "execution_count": 74,
      "outputs": []
    },
    {
      "cell_type": "code",
      "source": [
        "# Build the LSTM model\n",
        "model = Sequential()\n",
        "model.add(LSTM(units=50, return_sequences=True, input_shape=(look_back, 1)))\n",
        "model.add(LSTM(units=50))\n",
        "model.add(Dense(1))\n",
        "model.compile(loss='mean_squared_error', optimizer='adam')\n"
      ],
      "metadata": {
        "id": "3pbUQPW0kyjp"
      },
      "execution_count": 75,
      "outputs": []
    },
    {
      "cell_type": "code",
      "source": [
        "# Train the model\n",
        "model.fit(X_train, Y_train, epochs=100, batch_size=1, verbose=2)\n",
        "\n",
        "# Predict the blood usage for the testing set\n",
        "predictions = model.predict(X_test)"
      ],
      "metadata": {
        "colab": {
          "base_uri": "https://localhost:8080/"
        },
        "id": "74z8vE8ik0UW",
        "outputId": "9a4cf6c7-c655-4a38-f4a3-9fb433fe8104"
      },
      "execution_count": 76,
      "outputs": [
        {
          "output_type": "stream",
          "name": "stdout",
          "text": [
            "Epoch 1/100\n",
            "41/41 - 8s - loss: 0.2410 - 8s/epoch - 197ms/step\n",
            "Epoch 2/100\n",
            "41/41 - 0s - loss: 0.0396 - 188ms/epoch - 5ms/step\n",
            "Epoch 3/100\n",
            "41/41 - 0s - loss: 0.0358 - 213ms/epoch - 5ms/step\n",
            "Epoch 4/100\n",
            "41/41 - 0s - loss: 0.0387 - 207ms/epoch - 5ms/step\n",
            "Epoch 5/100\n",
            "41/41 - 0s - loss: 0.0388 - 189ms/epoch - 5ms/step\n",
            "Epoch 6/100\n",
            "41/41 - 0s - loss: 0.0391 - 194ms/epoch - 5ms/step\n",
            "Epoch 7/100\n",
            "41/41 - 0s - loss: 0.0355 - 189ms/epoch - 5ms/step\n",
            "Epoch 8/100\n",
            "41/41 - 0s - loss: 0.0380 - 221ms/epoch - 5ms/step\n",
            "Epoch 9/100\n",
            "41/41 - 0s - loss: 0.0353 - 204ms/epoch - 5ms/step\n",
            "Epoch 10/100\n",
            "41/41 - 0s - loss: 0.0382 - 194ms/epoch - 5ms/step\n",
            "Epoch 11/100\n",
            "41/41 - 0s - loss: 0.0361 - 177ms/epoch - 4ms/step\n",
            "Epoch 12/100\n",
            "41/41 - 0s - loss: 0.0349 - 179ms/epoch - 4ms/step\n",
            "Epoch 13/100\n",
            "41/41 - 0s - loss: 0.0344 - 197ms/epoch - 5ms/step\n",
            "Epoch 14/100\n",
            "41/41 - 0s - loss: 0.0361 - 212ms/epoch - 5ms/step\n",
            "Epoch 15/100\n",
            "41/41 - 0s - loss: 0.0362 - 200ms/epoch - 5ms/step\n",
            "Epoch 16/100\n",
            "41/41 - 0s - loss: 0.0319 - 212ms/epoch - 5ms/step\n",
            "Epoch 17/100\n",
            "41/41 - 0s - loss: 0.0362 - 190ms/epoch - 5ms/step\n",
            "Epoch 18/100\n",
            "41/41 - 0s - loss: 0.0330 - 199ms/epoch - 5ms/step\n",
            "Epoch 19/100\n",
            "41/41 - 0s - loss: 0.0349 - 226ms/epoch - 6ms/step\n",
            "Epoch 20/100\n",
            "41/41 - 0s - loss: 0.0333 - 195ms/epoch - 5ms/step\n",
            "Epoch 21/100\n",
            "41/41 - 0s - loss: 0.0327 - 198ms/epoch - 5ms/step\n",
            "Epoch 22/100\n",
            "41/41 - 0s - loss: 0.0334 - 176ms/epoch - 4ms/step\n",
            "Epoch 23/100\n",
            "41/41 - 0s - loss: 0.0378 - 200ms/epoch - 5ms/step\n",
            "Epoch 24/100\n",
            "41/41 - 0s - loss: 0.0312 - 207ms/epoch - 5ms/step\n",
            "Epoch 25/100\n",
            "41/41 - 0s - loss: 0.0320 - 196ms/epoch - 5ms/step\n",
            "Epoch 26/100\n",
            "41/41 - 0s - loss: 0.0341 - 195ms/epoch - 5ms/step\n",
            "Epoch 27/100\n",
            "41/41 - 0s - loss: 0.0359 - 182ms/epoch - 4ms/step\n",
            "Epoch 28/100\n",
            "41/41 - 0s - loss: 0.0317 - 191ms/epoch - 5ms/step\n",
            "Epoch 29/100\n",
            "41/41 - 0s - loss: 0.0323 - 213ms/epoch - 5ms/step\n",
            "Epoch 30/100\n",
            "41/41 - 0s - loss: 0.0325 - 182ms/epoch - 4ms/step\n",
            "Epoch 31/100\n",
            "41/41 - 0s - loss: 0.0315 - 195ms/epoch - 5ms/step\n",
            "Epoch 32/100\n",
            "41/41 - 0s - loss: 0.0320 - 188ms/epoch - 5ms/step\n",
            "Epoch 33/100\n",
            "41/41 - 0s - loss: 0.0318 - 202ms/epoch - 5ms/step\n",
            "Epoch 34/100\n",
            "41/41 - 0s - loss: 0.0319 - 219ms/epoch - 5ms/step\n",
            "Epoch 35/100\n",
            "41/41 - 0s - loss: 0.0310 - 194ms/epoch - 5ms/step\n",
            "Epoch 36/100\n",
            "41/41 - 0s - loss: 0.0348 - 179ms/epoch - 4ms/step\n",
            "Epoch 37/100\n",
            "41/41 - 0s - loss: 0.0354 - 177ms/epoch - 4ms/step\n",
            "Epoch 38/100\n",
            "41/41 - 0s - loss: 0.0314 - 195ms/epoch - 5ms/step\n",
            "Epoch 39/100\n",
            "41/41 - 0s - loss: 0.0322 - 292ms/epoch - 7ms/step\n",
            "Epoch 40/100\n",
            "41/41 - 0s - loss: 0.0320 - 292ms/epoch - 7ms/step\n",
            "Epoch 41/100\n",
            "41/41 - 0s - loss: 0.0320 - 306ms/epoch - 7ms/step\n",
            "Epoch 42/100\n",
            "41/41 - 0s - loss: 0.0319 - 296ms/epoch - 7ms/step\n",
            "Epoch 43/100\n",
            "41/41 - 0s - loss: 0.0318 - 301ms/epoch - 7ms/step\n",
            "Epoch 44/100\n",
            "41/41 - 0s - loss: 0.0354 - 284ms/epoch - 7ms/step\n",
            "Epoch 45/100\n",
            "41/41 - 0s - loss: 0.0347 - 295ms/epoch - 7ms/step\n",
            "Epoch 46/100\n",
            "41/41 - 0s - loss: 0.0328 - 292ms/epoch - 7ms/step\n",
            "Epoch 47/100\n",
            "41/41 - 0s - loss: 0.0365 - 280ms/epoch - 7ms/step\n",
            "Epoch 48/100\n",
            "41/41 - 0s - loss: 0.0326 - 296ms/epoch - 7ms/step\n",
            "Epoch 49/100\n",
            "41/41 - 0s - loss: 0.0324 - 288ms/epoch - 7ms/step\n",
            "Epoch 50/100\n",
            "41/41 - 0s - loss: 0.0311 - 286ms/epoch - 7ms/step\n",
            "Epoch 51/100\n",
            "41/41 - 0s - loss: 0.0311 - 277ms/epoch - 7ms/step\n",
            "Epoch 52/100\n",
            "41/41 - 0s - loss: 0.0315 - 304ms/epoch - 7ms/step\n",
            "Epoch 53/100\n",
            "41/41 - 0s - loss: 0.0312 - 225ms/epoch - 5ms/step\n",
            "Epoch 54/100\n",
            "41/41 - 0s - loss: 0.0313 - 204ms/epoch - 5ms/step\n",
            "Epoch 55/100\n",
            "41/41 - 0s - loss: 0.0313 - 205ms/epoch - 5ms/step\n",
            "Epoch 56/100\n",
            "41/41 - 0s - loss: 0.0321 - 281ms/epoch - 7ms/step\n",
            "Epoch 57/100\n",
            "41/41 - 0s - loss: 0.0301 - 231ms/epoch - 6ms/step\n",
            "Epoch 58/100\n",
            "41/41 - 0s - loss: 0.0301 - 300ms/epoch - 7ms/step\n",
            "Epoch 59/100\n",
            "41/41 - 0s - loss: 0.0324 - 249ms/epoch - 6ms/step\n",
            "Epoch 60/100\n",
            "41/41 - 0s - loss: 0.0311 - 218ms/epoch - 5ms/step\n",
            "Epoch 61/100\n",
            "41/41 - 0s - loss: 0.0319 - 208ms/epoch - 5ms/step\n",
            "Epoch 62/100\n",
            "41/41 - 0s - loss: 0.0327 - 207ms/epoch - 5ms/step\n",
            "Epoch 63/100\n",
            "41/41 - 0s - loss: 0.0307 - 184ms/epoch - 4ms/step\n",
            "Epoch 64/100\n",
            "41/41 - 0s - loss: 0.0298 - 216ms/epoch - 5ms/step\n",
            "Epoch 65/100\n",
            "41/41 - 0s - loss: 0.0305 - 202ms/epoch - 5ms/step\n",
            "Epoch 66/100\n",
            "41/41 - 0s - loss: 0.0349 - 194ms/epoch - 5ms/step\n",
            "Epoch 67/100\n",
            "41/41 - 0s - loss: 0.0306 - 208ms/epoch - 5ms/step\n",
            "Epoch 68/100\n",
            "41/41 - 0s - loss: 0.0307 - 214ms/epoch - 5ms/step\n",
            "Epoch 69/100\n",
            "41/41 - 0s - loss: 0.0318 - 223ms/epoch - 5ms/step\n",
            "Epoch 70/100\n",
            "41/41 - 0s - loss: 0.0337 - 231ms/epoch - 6ms/step\n",
            "Epoch 71/100\n",
            "41/41 - 0s - loss: 0.0299 - 199ms/epoch - 5ms/step\n",
            "Epoch 72/100\n",
            "41/41 - 0s - loss: 0.0307 - 223ms/epoch - 5ms/step\n",
            "Epoch 73/100\n",
            "41/41 - 0s - loss: 0.0300 - 216ms/epoch - 5ms/step\n",
            "Epoch 74/100\n",
            "41/41 - 0s - loss: 0.0304 - 233ms/epoch - 6ms/step\n",
            "Epoch 75/100\n",
            "41/41 - 0s - loss: 0.0312 - 211ms/epoch - 5ms/step\n",
            "Epoch 76/100\n",
            "41/41 - 0s - loss: 0.0322 - 207ms/epoch - 5ms/step\n",
            "Epoch 77/100\n",
            "41/41 - 0s - loss: 0.0286 - 183ms/epoch - 4ms/step\n",
            "Epoch 78/100\n",
            "41/41 - 0s - loss: 0.0311 - 199ms/epoch - 5ms/step\n",
            "Epoch 79/100\n",
            "41/41 - 0s - loss: 0.0295 - 217ms/epoch - 5ms/step\n",
            "Epoch 80/100\n",
            "41/41 - 0s - loss: 0.0284 - 204ms/epoch - 5ms/step\n",
            "Epoch 81/100\n",
            "41/41 - 0s - loss: 0.0309 - 208ms/epoch - 5ms/step\n",
            "Epoch 82/100\n",
            "41/41 - 0s - loss: 0.0283 - 196ms/epoch - 5ms/step\n",
            "Epoch 83/100\n",
            "41/41 - 0s - loss: 0.0283 - 201ms/epoch - 5ms/step\n",
            "Epoch 84/100\n",
            "41/41 - 0s - loss: 0.0288 - 214ms/epoch - 5ms/step\n",
            "Epoch 85/100\n",
            "41/41 - 0s - loss: 0.0278 - 205ms/epoch - 5ms/step\n",
            "Epoch 86/100\n",
            "41/41 - 0s - loss: 0.0271 - 215ms/epoch - 5ms/step\n",
            "Epoch 87/100\n",
            "41/41 - 0s - loss: 0.0280 - 170ms/epoch - 4ms/step\n",
            "Epoch 88/100\n",
            "41/41 - 0s - loss: 0.0289 - 176ms/epoch - 4ms/step\n",
            "Epoch 89/100\n",
            "41/41 - 0s - loss: 0.0287 - 197ms/epoch - 5ms/step\n",
            "Epoch 90/100\n",
            "41/41 - 0s - loss: 0.0324 - 168ms/epoch - 4ms/step\n",
            "Epoch 91/100\n",
            "41/41 - 0s - loss: 0.0294 - 214ms/epoch - 5ms/step\n",
            "Epoch 92/100\n",
            "41/41 - 0s - loss: 0.0277 - 186ms/epoch - 5ms/step\n",
            "Epoch 93/100\n",
            "41/41 - 0s - loss: 0.0275 - 188ms/epoch - 5ms/step\n",
            "Epoch 94/100\n",
            "41/41 - 0s - loss: 0.0270 - 191ms/epoch - 5ms/step\n",
            "Epoch 95/100\n",
            "41/41 - 0s - loss: 0.0268 - 193ms/epoch - 5ms/step\n",
            "Epoch 96/100\n",
            "41/41 - 0s - loss: 0.0269 - 191ms/epoch - 5ms/step\n",
            "Epoch 97/100\n",
            "41/41 - 0s - loss: 0.0278 - 177ms/epoch - 4ms/step\n",
            "Epoch 98/100\n",
            "41/41 - 0s - loss: 0.0300 - 175ms/epoch - 4ms/step\n",
            "Epoch 99/100\n",
            "41/41 - 0s - loss: 0.0274 - 198ms/epoch - 5ms/step\n",
            "Epoch 100/100\n",
            "41/41 - 0s - loss: 0.0271 - 258ms/epoch - 6ms/step\n",
            "1/1 [==============================] - 1s 1s/step\n"
          ]
        }
      ]
    },
    {
      "cell_type": "code",
      "source": [
        "# Rescale the predictions and actual values\n",
        "predictions = scaler.inverse_transform(predictions)\n",
        "Y_test = scaler.inverse_transform([Y_test])\n"
      ],
      "metadata": {
        "id": "fUzeB0x0k3It"
      },
      "execution_count": 77,
      "outputs": []
    },
    {
      "cell_type": "code",
      "source": [
        "# Evaluate the model using root mean squared error\n",
        "rmse = np.sqrt(np.mean((predictions - Y_test)**2))\n",
        "print('Root Mean Squared Error:', rmse)"
      ],
      "metadata": {
        "colab": {
          "base_uri": "https://localhost:8080/"
        },
        "id": "CDHBmWvDlDQP",
        "outputId": "397c24e5-dc98-43a1-b857-19478d440800"
      },
      "execution_count": 78,
      "outputs": [
        {
          "output_type": "stream",
          "name": "stdout",
          "text": [
            "Root Mean Squared Error: 4549.881768748195\n"
          ]
        }
      ]
    },
    {
      "cell_type": "code",
      "source": [
        "# Plot the predicted and actual blood usage for the testing set\n",
        "plt.plot(Y_test.flatten(), label='Actual')\n",
        "plt.plot(predictions.flatten(), label='Predicted')\n",
        "plt.title('Blood Usage Prediction')\n",
        "plt.xlabel('Time')\n",
        "plt.ylabel('Amount')\n",
        "plt.legend()\n",
        "plt.show()"
      ],
      "metadata": {
        "colab": {
          "base_uri": "https://localhost:8080/",
          "height": 295
        },
        "id": "vgdCrz_LlD1V",
        "outputId": "8fd5e206-f23d-4439-eb83-a18f4e580c8d"
      },
      "execution_count": 79,
      "outputs": [
        {
          "output_type": "display_data",
          "data": {
            "text/plain": [
              "<Figure size 432x288 with 1 Axes>"
            ],
            "image/png": "[encoded data removed]"
          },
          "metadata": {
            "needs_background": "light"
          }
        }
      ]
    },
    {
      "cell_type": "code",
      "source": [],
      "metadata": {
        "id": "7ZZHHWGalGGg"
      },
      "execution_count": null,
      "outputs": []
    }
  ]
}